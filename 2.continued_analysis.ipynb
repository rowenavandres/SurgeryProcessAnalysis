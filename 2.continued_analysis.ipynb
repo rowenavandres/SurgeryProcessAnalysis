{
 "cells": [
  {
   "cell_type": "markdown",
   "metadata": {},
   "source": [
    "# Surgery Process\n",
    "### Continued Analysis\n",
    "\n",
    "The diagnostic imaging (DI) team has provided you with data about patients they have seen in their clinic.   They have sent an extract of all patients seen for abdominal scans during the same time period as the OR Booking data.  This exercise will be to explore the patient journey through the DI clinic for the patients who had Appendectomy’s & Choles."
   ]
  },
  {
   "cell_type": "code",
   "execution_count": 86,
   "metadata": {},
   "outputs": [],
   "source": [
    "# Import necessary libraries\n",
    "import pandas as pd"
   ]
  },
  {
   "cell_type": "markdown",
   "metadata": {},
   "source": [
    "* Combining the DI Requisition csv files into a single table."
   ]
  },
  {
   "cell_type": "code",
   "execution_count": 87,
   "metadata": {},
   "outputs": [
    {
     "name": "stdout",
     "output_type": "stream",
     "text": [
      "Check if they have same columns\n",
      "DI - Visits 1.3 columns:\n",
      " Index(['HCID', 'Pt Age', 'DI Req - Time', 'Requesting Physician',\n",
      "       'Req Type - Abdominal', 'DI - Pt in Suite'],\n",
      "      dtype='object')\n",
      "DI - Visits 2.3 columns:\n",
      " Index(['HCID', 'Pt Age', 'DI Req - Time', 'Requesting Physician',\n",
      "       'Req Type - Abdominal', 'DI - Pt in Suite'],\n",
      "      dtype='object')\n",
      "DI - Visits 3.3 columns:\n",
      " Index(['HCID', 'Pt Age', 'DI Req - Time', 'Requesting Physician',\n",
      "       'Req Type - Abdominal', 'DI - Pt in Suite'],\n",
      "      dtype='object')\n",
      "\n",
      "Check shapes:\n",
      "DI - Visits 1.3 shape:\n",
      " (820, 6)\n",
      "DI - Visits 2.3 shape:\n",
      " (820, 6)\n",
      "DI - Visits 3.3 shape:\n",
      " (817, 6)\n"
     ]
    }
   ],
   "source": [
    "di1 = pd.read_excel('data/DI - Visits 1.3.xlsx')\n",
    "di2 = pd.read_excel('data/DI - Visits 2.3.xlsx')\n",
    "di3 = pd.read_excel('data/DI - Visits 3.3.xlsx')\n",
    "\n",
    "print('Check if they have same columns')\n",
    "print('DI - Visits 1.3 columns:\\n', di1.columns)\n",
    "print('DI - Visits 2.3 columns:\\n', di2.columns)\n",
    "print('DI - Visits 3.3 columns:\\n', di3.columns)\n",
    "\n",
    "print('\\nCheck shapes:')\n",
    "print('DI - Visits 1.3 shape:\\n', di1.shape)\n",
    "print('DI - Visits 2.3 shape:\\n', di2.shape)\n",
    "print('DI - Visits 3.3 shape:\\n', di3.shape)"
   ]
  },
  {
   "cell_type": "code",
   "execution_count": 88,
   "metadata": {},
   "outputs": [
    {
     "data": {
      "text/html": [
       "<div>\n",
       "<style scoped>\n",
       "    .dataframe tbody tr th:only-of-type {\n",
       "        vertical-align: middle;\n",
       "    }\n",
       "\n",
       "    .dataframe tbody tr th {\n",
       "        vertical-align: top;\n",
       "    }\n",
       "\n",
       "    .dataframe thead th {\n",
       "        text-align: right;\n",
       "    }\n",
       "</style>\n",
       "<table border=\"1\" class=\"dataframe\">\n",
       "  <thead>\n",
       "    <tr style=\"text-align: right;\">\n",
       "      <th></th>\n",
       "      <th>HCID</th>\n",
       "      <th>Pt Age</th>\n",
       "      <th>DI Req - Time</th>\n",
       "      <th>Requesting Physician</th>\n",
       "      <th>Req Type - Abdominal</th>\n",
       "      <th>DI - Pt in Suite</th>\n",
       "    </tr>\n",
       "  </thead>\n",
       "  <tbody>\n",
       "    <tr>\n",
       "      <th>0</th>\n",
       "      <td>2203144</td>\n",
       "      <td>70.0</td>\n",
       "      <td>2019-01-21 15:27:50.013</td>\n",
       "      <td>Dr. S</td>\n",
       "      <td>ABD</td>\n",
       "      <td>2019-01-21 16:42:31.173</td>\n",
       "    </tr>\n",
       "    <tr>\n",
       "      <th>1</th>\n",
       "      <td>2461112</td>\n",
       "      <td>67.0</td>\n",
       "      <td>2019-01-21 15:27:50.013</td>\n",
       "      <td>Dr. S</td>\n",
       "      <td>ABD</td>\n",
       "      <td>2019-01-21 18:43:27.644</td>\n",
       "    </tr>\n",
       "    <tr>\n",
       "      <th>2</th>\n",
       "      <td>2233815</td>\n",
       "      <td>58.0</td>\n",
       "      <td>2019-01-21 15:43:24.757</td>\n",
       "      <td>Dr. S</td>\n",
       "      <td>ABD</td>\n",
       "      <td>2019-01-21 15:55:06.378</td>\n",
       "    </tr>\n",
       "    <tr>\n",
       "      <th>3</th>\n",
       "      <td>1043375</td>\n",
       "      <td>31.0</td>\n",
       "      <td>2019-01-22 01:19:36.383</td>\n",
       "      <td>Dr. S</td>\n",
       "      <td>ABD</td>\n",
       "      <td>2019-01-22 02:53:00.812</td>\n",
       "    </tr>\n",
       "    <tr>\n",
       "      <th>4</th>\n",
       "      <td>2933761</td>\n",
       "      <td>60.0</td>\n",
       "      <td>2019-01-22 02:20:09.396</td>\n",
       "      <td>Dr. O</td>\n",
       "      <td>ABD</td>\n",
       "      <td>2019-01-22 03:41:22.028</td>\n",
       "    </tr>\n",
       "  </tbody>\n",
       "</table>\n",
       "</div>"
      ],
      "text/plain": [
       "      HCID  Pt Age           DI Req - Time Requesting Physician  \\\n",
       "0  2203144    70.0 2019-01-21 15:27:50.013                Dr. S   \n",
       "1  2461112    67.0 2019-01-21 15:27:50.013                Dr. S   \n",
       "2  2233815    58.0 2019-01-21 15:43:24.757                Dr. S   \n",
       "3  1043375    31.0 2019-01-22 01:19:36.383                Dr. S   \n",
       "4  2933761    60.0 2019-01-22 02:20:09.396                Dr. O   \n",
       "\n",
       "  Req Type - Abdominal        DI - Pt in Suite  \n",
       "0                  ABD 2019-01-21 16:42:31.173  \n",
       "1                  ABD 2019-01-21 18:43:27.644  \n",
       "2                  ABD 2019-01-21 15:55:06.378  \n",
       "3                  ABD 2019-01-22 02:53:00.812  \n",
       "4                  ABD 2019-01-22 03:41:22.028  "
      ]
     },
     "metadata": {},
     "output_type": "display_data"
    },
    {
     "name": "stdout",
     "output_type": "stream",
     "text": [
      "(2457, 6)\n",
      "<class 'pandas.core.frame.DataFrame'>\n",
      "Int64Index: 2457 entries, 0 to 816\n",
      "Data columns (total 6 columns):\n",
      " #   Column                Non-Null Count  Dtype         \n",
      "---  ------                --------------  -----         \n",
      " 0   HCID                  2457 non-null   int64         \n",
      " 1   Pt Age                2412 non-null   float64       \n",
      " 2   DI Req - Time         2457 non-null   datetime64[ns]\n",
      " 3   Requesting Physician  2457 non-null   object        \n",
      " 4   Req Type - Abdominal  2457 non-null   object        \n",
      " 5   DI - Pt in Suite      2457 non-null   datetime64[ns]\n",
      "dtypes: datetime64[ns](2), float64(1), int64(1), object(2)\n",
      "memory usage: 134.4+ KB\n",
      "\n",
      "Check null values:\n"
     ]
    },
    {
     "data": {
      "text/plain": [
       "HCID                     0\n",
       "Pt Age                  45\n",
       "DI Req - Time            0\n",
       "Requesting Physician     0\n",
       "Req Type - Abdominal     0\n",
       "DI - Pt in Suite         0\n",
       "dtype: int64"
      ]
     },
     "metadata": {},
     "output_type": "display_data"
    },
    {
     "name": "stdout",
     "output_type": "stream",
     "text": [
      "\n",
      "Check duplicate records:\n"
     ]
    },
    {
     "data": {
      "text/html": [
       "<div>\n",
       "<style scoped>\n",
       "    .dataframe tbody tr th:only-of-type {\n",
       "        vertical-align: middle;\n",
       "    }\n",
       "\n",
       "    .dataframe tbody tr th {\n",
       "        vertical-align: top;\n",
       "    }\n",
       "\n",
       "    .dataframe thead th {\n",
       "        text-align: right;\n",
       "    }\n",
       "</style>\n",
       "<table border=\"1\" class=\"dataframe\">\n",
       "  <thead>\n",
       "    <tr style=\"text-align: right;\">\n",
       "      <th></th>\n",
       "      <th>HCID</th>\n",
       "      <th>Pt Age</th>\n",
       "      <th>DI Req - Time</th>\n",
       "      <th>Requesting Physician</th>\n",
       "      <th>Req Type - Abdominal</th>\n",
       "      <th>DI - Pt in Suite</th>\n",
       "    </tr>\n",
       "  </thead>\n",
       "  <tbody>\n",
       "    <tr>\n",
       "      <th>108</th>\n",
       "      <td>2155841</td>\n",
       "      <td>87.0</td>\n",
       "      <td>2019-12-09 21:31:56.911</td>\n",
       "      <td>Dr. O</td>\n",
       "      <td>ABD</td>\n",
       "      <td>2019-12-10 00:29:10.009</td>\n",
       "    </tr>\n",
       "    <tr>\n",
       "      <th>717</th>\n",
       "      <td>2286275</td>\n",
       "      <td>73.0</td>\n",
       "      <td>2020-04-01 09:22:07.521</td>\n",
       "      <td>Dr. S</td>\n",
       "      <td>ABD</td>\n",
       "      <td>2020-04-01 12:01:53.279</td>\n",
       "    </tr>\n",
       "  </tbody>\n",
       "</table>\n",
       "</div>"
      ],
      "text/plain": [
       "        HCID  Pt Age           DI Req - Time Requesting Physician  \\\n",
       "108  2155841    87.0 2019-12-09 21:31:56.911                Dr. O   \n",
       "717  2286275    73.0 2020-04-01 09:22:07.521                Dr. S   \n",
       "\n",
       "    Req Type - Abdominal        DI - Pt in Suite  \n",
       "108                  ABD 2019-12-10 00:29:10.009  \n",
       "717                  ABD 2020-04-01 12:01:53.279  "
      ]
     },
     "execution_count": 88,
     "metadata": {},
     "output_type": "execute_result"
    }
   ],
   "source": [
    "# Concat 3 DI dataframes to one table\n",
    "di_records = pd.concat([di1, di2, di3], axis=0)\n",
    "display(di_records.head())\n",
    "print(di_records.shape)\n",
    "di_records.info()\n",
    "\n",
    "# Check null\n",
    "print('\\nCheck null values:')\n",
    "display(di_records.isnull().sum())\n",
    "\n",
    "# Check duplicates\n",
    "print('\\nCheck duplicate records:')\n",
    "di_records[(di_records.duplicated(subset=['HCID']))]"
   ]
  },
  {
   "cell_type": "code",
   "execution_count": 89,
   "metadata": {},
   "outputs": [
    {
     "data": {
      "text/html": [
       "<div>\n",
       "<style scoped>\n",
       "    .dataframe tbody tr th:only-of-type {\n",
       "        vertical-align: middle;\n",
       "    }\n",
       "\n",
       "    .dataframe tbody tr th {\n",
       "        vertical-align: top;\n",
       "    }\n",
       "\n",
       "    .dataframe thead th {\n",
       "        text-align: right;\n",
       "    }\n",
       "</style>\n",
       "<table border=\"1\" class=\"dataframe\">\n",
       "  <thead>\n",
       "    <tr style=\"text-align: right;\">\n",
       "      <th></th>\n",
       "      <th>HCID</th>\n",
       "      <th>Pt Age</th>\n",
       "      <th>DI Req - Time</th>\n",
       "      <th>Requesting Physician</th>\n",
       "      <th>Req Type - Abdominal</th>\n",
       "      <th>DI - Pt in Suite</th>\n",
       "    </tr>\n",
       "  </thead>\n",
       "  <tbody>\n",
       "    <tr>\n",
       "      <th>806</th>\n",
       "      <td>2155841</td>\n",
       "      <td>58.0</td>\n",
       "      <td>2019-01-22 02:20:09.396</td>\n",
       "      <td>Dr. D</td>\n",
       "      <td>ABD</td>\n",
       "      <td>2019-11-17 11:29:52.714</td>\n",
       "    </tr>\n",
       "    <tr>\n",
       "      <th>108</th>\n",
       "      <td>2155841</td>\n",
       "      <td>87.0</td>\n",
       "      <td>2019-12-09 21:31:56.911</td>\n",
       "      <td>Dr. O</td>\n",
       "      <td>ABD</td>\n",
       "      <td>2019-12-10 00:29:10.009</td>\n",
       "    </tr>\n",
       "  </tbody>\n",
       "</table>\n",
       "</div>"
      ],
      "text/plain": [
       "        HCID  Pt Age           DI Req - Time Requesting Physician  \\\n",
       "806  2155841    58.0 2019-01-22 02:20:09.396                Dr. D   \n",
       "108  2155841    87.0 2019-12-09 21:31:56.911                Dr. O   \n",
       "\n",
       "    Req Type - Abdominal        DI - Pt in Suite  \n",
       "806                  ABD 2019-11-17 11:29:52.714  \n",
       "108                  ABD 2019-12-10 00:29:10.009  "
      ]
     },
     "metadata": {},
     "output_type": "display_data"
    },
    {
     "data": {
      "text/html": [
       "<div>\n",
       "<style scoped>\n",
       "    .dataframe tbody tr th:only-of-type {\n",
       "        vertical-align: middle;\n",
       "    }\n",
       "\n",
       "    .dataframe tbody tr th {\n",
       "        vertical-align: top;\n",
       "    }\n",
       "\n",
       "    .dataframe thead th {\n",
       "        text-align: right;\n",
       "    }\n",
       "</style>\n",
       "<table border=\"1\" class=\"dataframe\">\n",
       "  <thead>\n",
       "    <tr style=\"text-align: right;\">\n",
       "      <th></th>\n",
       "      <th>HCID</th>\n",
       "      <th>Pt Age</th>\n",
       "      <th>DI Req - Time</th>\n",
       "      <th>Requesting Physician</th>\n",
       "      <th>Req Type - Abdominal</th>\n",
       "      <th>DI - Pt in Suite</th>\n",
       "    </tr>\n",
       "  </thead>\n",
       "  <tbody>\n",
       "    <tr>\n",
       "      <th>652</th>\n",
       "      <td>2286275</td>\n",
       "      <td>44.0</td>\n",
       "      <td>2019-10-23 11:00:28.223</td>\n",
       "      <td>Dr. P</td>\n",
       "      <td>ABD</td>\n",
       "      <td>2019-10-23 14:55:54.745</td>\n",
       "    </tr>\n",
       "    <tr>\n",
       "      <th>717</th>\n",
       "      <td>2286275</td>\n",
       "      <td>73.0</td>\n",
       "      <td>2020-04-01 09:22:07.521</td>\n",
       "      <td>Dr. S</td>\n",
       "      <td>ABD</td>\n",
       "      <td>2020-04-01 12:01:53.279</td>\n",
       "    </tr>\n",
       "  </tbody>\n",
       "</table>\n",
       "</div>"
      ],
      "text/plain": [
       "        HCID  Pt Age           DI Req - Time Requesting Physician  \\\n",
       "652  2286275    44.0 2019-10-23 11:00:28.223                Dr. P   \n",
       "717  2286275    73.0 2020-04-01 09:22:07.521                Dr. S   \n",
       "\n",
       "    Req Type - Abdominal        DI - Pt in Suite  \n",
       "652                  ABD 2019-10-23 14:55:54.745  \n",
       "717                  ABD 2020-04-01 12:01:53.279  "
      ]
     },
     "metadata": {},
     "output_type": "display_data"
    }
   ],
   "source": [
    "# Check duplicate records\n",
    "display(di_records[(di_records['HCID']==2155841)])\n",
    "\n",
    "display(di_records[(di_records['HCID']==2286275)])"
   ]
  },
  {
   "cell_type": "markdown",
   "metadata": {},
   "source": [
    "**NOTE:**\n",
    "We will take note this two HCIDs that have duplicate records and asked the SME if we can drop these records."
   ]
  },
  {
   "cell_type": "markdown",
   "metadata": {},
   "source": [
    "* The DI department does not have information on why patients were seen there. Using the OR Booking data to determine which records from DI were from patients who were in the care pathway for an Appendectomy or Cholecystectomy. "
   ]
  },
  {
   "cell_type": "code",
   "execution_count": 90,
   "metadata": {},
   "outputs": [
    {
     "name": "stdout",
     "output_type": "stream",
     "text": [
      "Total number of patients in Diagnostic Imaging: 2457\n",
      "Total number of patients in Diagnostic Imaging who were for Appendectomy or Cholecystectomy: 731\n"
     ]
    }
   ],
   "source": [
    "or_booking = pd.read_csv('data/OR Booking.csv')\n",
    "# Trim space on HCID column of OR Booking\n",
    "or_booking.rename(columns={'HCID ': 'HCID'}, inplace=True)\n",
    "\n",
    "di_orbooking = di_records.merge(or_booking, how='left', on='HCID')\n",
    "patients = di_orbooking[(di_orbooking['Proc Descr Mod'].str.contains('Appendectomy')) |\n",
    "                    (di_orbooking['Proc Descr Mod'].str.contains('Cholecystectomy'))]\n",
    "print('Total number of patients in Diagnostic Imaging:', di_orbooking.shape[0])\n",
    "print('Total number of patients in Diagnostic Imaging who were for Appendectomy or Cholecystectomy:', patients.shape[0])"
   ]
  },
  {
   "cell_type": "markdown",
   "metadata": {},
   "source": [
    "Use DI records on the left to accurately capture the number of cases related to Appendectomy or Cholecystectomy. These records will serve as the foundational list items for evaluating and ensuring the effectiveness of our care pathway."
   ]
  },
  {
   "cell_type": "code",
   "execution_count": 91,
   "metadata": {},
   "outputs": [
    {
     "name": "stdout",
     "output_type": "stream",
     "text": [
      "<bound method DataFrame.info of          HCID  Pt Age               Proc Descr Mod Req Proc Tm Pt Priority  \\\n",
      "0     1805294    40.0     Laparoscopy Appendectomy        0060       E-06H   \n",
      "1     2233815    58.0  Laparoscopy Cholecystectomy        0060       E-24H   \n",
      "2     1043375    31.0     Laparoscopy Appendectomy        0060       E-06H   \n",
      "3     1203917    45.0  Laparoscopy Cholecystectomy        0060       E-24H   \n",
      "4     2616633    46.0     Laparoscopy Appendectomy                   E-06H   \n",
      "...       ...     ...                          ...         ...         ...   \n",
      "1224  1547397    25.0     Laparoscopy Appendectomy        0060       E-06H   \n",
      "1225  2250377    54.0  Laparoscopy Cholecystectomy        0060       E-24H   \n",
      "1226  2803120    18.0  Laparoscopy Cholecystectomy        0060       U-36H   \n",
      "1227  1602995    25.0     Laparoscopy Appendectomy        0060       E-06H   \n",
      "1228  2939119    41.0     Laparoscopy Appendectomy        0060       E-06H   \n",
      "\n",
      "     OR Booking Req DT/Tm Pt Loc     Proc DT Pt OR Chk In Pt In OR  OR   \\\n",
      "0     2019-01-12 03:00:00     35  2019-01-12         1000     1025    5   \n",
      "1     2019-01-21 17:12:00     ER  2019-01-21         1827     1905    5   \n",
      "2     2019-01-22 03:30:00     ER  2019-01-22         0750     0800    5   \n",
      "3     2019-01-29 18:12:00     56  2019-01-30         1728     1805    7   \n",
      "4     2019-01-30 05:30:00     35  2019-01-30         0740     0800   10   \n",
      "...                   ...    ...         ...          ...      ...  ...   \n",
      "1224  2021-01-19 06:06:00     ER  2021-01-19         1400     1441    9   \n",
      "1225  2021-02-05 20:15:00     35  2021-02-06         1557     1640    9   \n",
      "1226  2021-02-07 14:32:00     64  2021-02-08         1541     1608   10   \n",
      "1227  2021-02-08 05:56:00     ER  2021-02-08         0908     0950    4   \n",
      "1228  2021-02-15 03:00:00     ER  2021-02-15         0727     0752    5   \n",
      "\n",
      "     Pt Trns     ORR#           DI Req - Time Requesting Physician  \\\n",
      "0       PARU  1065487                     NaT                  NaN   \n",
      "1       PARU  1065535 2019-01-21 15:43:24.757                Dr. S   \n",
      "2       PARU  1065583 2019-01-22 01:19:36.383                Dr. S   \n",
      "3       PARU  1065615                     NaT                  NaN   \n",
      "4       PARU  1065660 2019-01-30 03:25:46.939                Dr. O   \n",
      "...      ...      ...                     ...                  ...   \n",
      "1224    PARU  1100943                     NaT                  NaN   \n",
      "1225    PARU  1100996 2021-02-05 19:43:05.269                Dr. J   \n",
      "1226    PARU  1101049                     NaT                  NaN   \n",
      "1227          1101074                     NaT                  NaN   \n",
      "1228    PARU  1101121                     NaT                  NaN   \n",
      "\n",
      "     Req Type - Abdominal        DI - Pt in Suite  \n",
      "0                     NaN                     NaT  \n",
      "1                     ABD 2019-01-21 15:55:06.378  \n",
      "2                     ABD 2019-01-22 02:53:00.812  \n",
      "3                     NaN                     NaT  \n",
      "4                     ABD 2019-01-30 04:59:48.144  \n",
      "...                   ...                     ...  \n",
      "1224                  NaN                     NaT  \n",
      "1225                  ABD 2021-02-05 19:45:42.358  \n",
      "1226                  NaN                     NaT  \n",
      "1227                  NaN                     NaT  \n",
      "1228                  NaN                     NaT  \n",
      "\n",
      "[1229 rows x 17 columns]>\n"
     ]
    }
   ],
   "source": [
    "or_di_data = or_booking.merge(di_records, how='left', on=['HCID', 'Pt Age'])\n",
    "print(or_di_data.info)\n",
    "\n",
    "# Convert OR Booking Req DT/Tm to date time\n",
    "or_di_data['OR Booking Req DT/Tm'] = pd.to_datetime(or_di_data['OR Booking Req DT/Tm'], format='%Y-%m-%d %H:%M:%S', errors='coerce')"
   ]
  },
  {
   "cell_type": "markdown",
   "metadata": {},
   "source": [
    "* Get the percentage of Appendectomy patients going through DI on their pathway to the OR."
   ]
  },
  {
   "cell_type": "code",
   "execution_count": 92,
   "metadata": {},
   "outputs": [
    {
     "name": "stdout",
     "output_type": "stream",
     "text": [
      "Total Appendectomy patients: 578\n",
      "Total Appendectomy patients that gone through DI: 194\n",
      "Percentage of Appendectomy patients that gone through DI: 33.56%\n"
     ]
    }
   ],
   "source": [
    "# Get Appendectomy patients\n",
    "appende_patients = or_di_data[(or_di_data['Proc Descr Mod'].str.contains('Appendectomy'))]\n",
    "\n",
    "# Get Appendectomy patients that go through DI\n",
    "appende_di_patients = appende_patients[(appende_patients['DI Req - Time'].isna()== False)]\n",
    "\n",
    "# Get percentage of Appendectomy patients that gone through DI\n",
    "appendectomy_di_percent = 100 * (appende_di_patients.shape[0] / appende_patients.shape[0])\n",
    "\n",
    "print(f'Total Appendectomy patients: {appende_patients.shape[0]}')\n",
    "print(f'Total Appendectomy patients that gone through DI: {appende_di_patients.shape[0]}')\n",
    "print(f'Percentage of Appendectomy patients that gone through DI: {appendectomy_di_percent:.2f}%')"
   ]
  },
  {
   "cell_type": "markdown",
   "metadata": {},
   "source": [
    "* Get the percentage of Cholecystectomy patients going through DI on their pathway to the OR."
   ]
  },
  {
   "cell_type": "code",
   "execution_count": 93,
   "metadata": {},
   "outputs": [
    {
     "name": "stdout",
     "output_type": "stream",
     "text": [
      "Total Cholecystectomy patients: 651\n",
      "Total Cholecystectomy patients that gone through DI: 537\n",
      "Percentage of Cholecystectomy patients that gone through DI: 82.49%\n"
     ]
    }
   ],
   "source": [
    "# Get Cholecystectomy patients\n",
    "chole_patients = or_di_data[(or_di_data['Proc Descr Mod'].str.contains('Cholecystectomy'))]\n",
    "\n",
    "# Get Cholecystectomy patients that go through DI\n",
    "chole_di_patients = chole_patients[(chole_patients['DI Req - Time'].isna()== False)]\n",
    "\n",
    "# Get percentage of Cholecystectomy patients that gone through DI\n",
    "cholecystectomy_di_percent = 100 * (chole_di_patients.shape[0] / chole_patients.shape[0])\n",
    "\n",
    "print(f'Total Cholecystectomy patients: {chole_patients.shape[0]}')\n",
    "print(f'Total Cholecystectomy patients that gone through DI: {chole_di_patients.shape[0]}')\n",
    "print(f'Percentage of Cholecystectomy patients that gone through DI: {cholecystectomy_di_percent:.2f}%')"
   ]
  },
  {
   "cell_type": "markdown",
   "metadata": {},
   "source": [
    "### Is there any group more likely to go through DI prior to the OR?\n",
    "\n",
    "**Answer:**\n",
    "\n",
    "Based on the data provided, it is evident that the Adult, Middle Aged, and Aged groups are more likely to undergo a Diagnostic Image procedure before an operation. This trend makes sense as individuals aged 25 and above tend to engage in more activities compared to young adults and children. The statistics clearly support the rationale behind this pattern."
   ]
  },
  {
   "cell_type": "code",
   "execution_count": 94,
   "metadata": {},
   "outputs": [
    {
     "data": {
      "text/html": [
       "<div>\n",
       "<style scoped>\n",
       "    .dataframe tbody tr th:only-of-type {\n",
       "        vertical-align: middle;\n",
       "    }\n",
       "\n",
       "    .dataframe tbody tr th {\n",
       "        vertical-align: top;\n",
       "    }\n",
       "\n",
       "    .dataframe thead th {\n",
       "        text-align: right;\n",
       "    }\n",
       "</style>\n",
       "<table border=\"1\" class=\"dataframe\">\n",
       "  <thead>\n",
       "    <tr style=\"text-align: right;\">\n",
       "      <th></th>\n",
       "      <th></th>\n",
       "      <th>HCID</th>\n",
       "    </tr>\n",
       "    <tr>\n",
       "      <th>Proc Descr Mod</th>\n",
       "      <th>Age Group</th>\n",
       "      <th></th>\n",
       "    </tr>\n",
       "  </thead>\n",
       "  <tbody>\n",
       "    <tr>\n",
       "      <th rowspan=\"5\" valign=\"top\">Laparoscopy Appendectomy</th>\n",
       "      <th>Adult</th>\n",
       "      <td>50</td>\n",
       "    </tr>\n",
       "    <tr>\n",
       "      <th>Aged</th>\n",
       "      <td>39</td>\n",
       "    </tr>\n",
       "    <tr>\n",
       "      <th>Middle Aged</th>\n",
       "      <td>80</td>\n",
       "    </tr>\n",
       "    <tr>\n",
       "      <th>Teen</th>\n",
       "      <td>11</td>\n",
       "    </tr>\n",
       "    <tr>\n",
       "      <th>Young Adult</th>\n",
       "      <td>14</td>\n",
       "    </tr>\n",
       "    <tr>\n",
       "      <th rowspan=\"5\" valign=\"top\">Laparoscopy Cholecystectomy</th>\n",
       "      <th>Adult</th>\n",
       "      <td>195</td>\n",
       "    </tr>\n",
       "    <tr>\n",
       "      <th>Aged</th>\n",
       "      <td>143</td>\n",
       "    </tr>\n",
       "    <tr>\n",
       "      <th>Middle Aged</th>\n",
       "      <td>165</td>\n",
       "    </tr>\n",
       "    <tr>\n",
       "      <th>Teen</th>\n",
       "      <td>11</td>\n",
       "    </tr>\n",
       "    <tr>\n",
       "      <th>Young Adult</th>\n",
       "      <td>23</td>\n",
       "    </tr>\n",
       "  </tbody>\n",
       "</table>\n",
       "</div>"
      ],
      "text/plain": [
       "                                         HCID\n",
       "Proc Descr Mod              Age Group        \n",
       "Laparoscopy Appendectomy    Adult          50\n",
       "                            Aged           39\n",
       "                            Middle Aged    80\n",
       "                            Teen           11\n",
       "                            Young Adult    14\n",
       "Laparoscopy Cholecystectomy Adult         195\n",
       "                            Aged          143\n",
       "                            Middle Aged   165\n",
       "                            Teen           11\n",
       "                            Young Adult    23"
      ]
     },
     "execution_count": 94,
     "metadata": {},
     "output_type": "execute_result"
    }
   ],
   "source": [
    "# Make age groupings\n",
    "def get_age_group(age):\n",
    "    if age <= 1:\n",
    "        return 'Infant'\n",
    "    elif age > 1 and age <= 3:\n",
    "        return 'Toddler'\n",
    "    elif age > 3 and age <= 12:\n",
    "        return 'Child'\n",
    "    elif age > 12 and age <= 19:\n",
    "        return 'Teen'\n",
    "    elif age > 19 and age <= 24:\n",
    "        return 'Young Adult'\n",
    "    elif age > 24 and age <= 44:\n",
    "        return 'Adult'\n",
    "    elif age > 44 and age <= 64:\n",
    "        return 'Middle Aged'\n",
    "    else:\n",
    "        return 'Aged'\n",
    "\n",
    "or_di_data['Age Group'] = or_di_data['Pt Age'].apply(get_age_group)\n",
    "or_di_data[['HCID', 'Proc Descr Mod', 'Age Group']]\\\n",
    "            .where(or_di_data['DI Req - Time'].isna()== False)\\\n",
    "            .groupby(['Proc Descr Mod', 'Age Group']).count()"
   ]
  },
  {
   "cell_type": "markdown",
   "metadata": {},
   "source": [
    "### Are there particular days of the week where wait times to be seen by DI are significantly higher or lower than the overall average for Appendectomy or Cholecystectomy patients?\n",
    "\n",
    "**Answer:**\n",
    "\n",
    "From the data below, it has been observed that there is significant high waiting time (10091.28 seconds or 2.8 hours) during Wednesday while there is a minimal wait time (10.5 minutes) during Sunday."
   ]
  },
  {
   "cell_type": "code",
   "execution_count": 95,
   "metadata": {},
   "outputs": [
    {
     "name": "stdout",
     "output_type": "stream",
     "text": [
      "Total valid DI wait time di_wait_records: 731\n",
      "Average DI wait time: 4850.43 seconds\n",
      "90% above average Wait Time: 10091.28 seconds\n",
      "10% above average Wait Time: 630.31 seconds\n",
      "\n",
      "High Wait Time Rank- Day of the Week\n"
     ]
    },
    {
     "data": {
      "text/plain": [
       "DI Req - Time\n",
       "Wednesday        16\n",
       "Monday           12\n",
       "Thursday         12\n",
       "Saturday         11\n",
       "Sunday           11\n",
       "Friday            7\n",
       "Tuesday           5\n",
       "dtype: int64"
      ]
     },
     "metadata": {},
     "output_type": "display_data"
    },
    {
     "name": "stdout",
     "output_type": "stream",
     "text": [
      "Low Wait Time Rank - Day of the Week\n"
     ]
    },
    {
     "data": {
      "text/plain": [
       "DI Req - Time\n",
       "Sunday           15\n",
       "Thursday         11\n",
       "Wednesday        11\n",
       "Friday           10\n",
       "Saturday         10\n",
       "Monday            9\n",
       "Tuesday           8\n",
       "dtype: int64"
      ]
     },
     "metadata": {},
     "output_type": "display_data"
    }
   ],
   "source": [
    "# Compute the wait time in DI\n",
    "or_di_data['DIWaitTime'] = (or_di_data['DI - Pt in Suite'] - or_di_data['DI Req - Time']).dt.total_seconds()\n",
    "\n",
    "# Filter Appendectomy and Cholecystectomy patients with valid wait time >= 0\n",
    "di_wait_records = or_di_data[((or_di_data['Proc Descr Mod'].str.contains('Appendectomy')) |\n",
    "                            (or_di_data['Proc Descr Mod'].str.contains('Cholecystectomy'))) &\n",
    "                            (or_di_data['DIWaitTime'] >= 0)]\n",
    "print('Total valid DI wait time di_wait_records:', di_wait_records.shape[0])\n",
    "\n",
    "average_wait = di_wait_records['DIWaitTime'].mean()\n",
    "print(f'Average DI wait time: {average_wait:.2f} seconds')\n",
    "\n",
    "p90 = di_wait_records['DIWaitTime'].quantile(0.9)\n",
    "p10 = di_wait_records['DIWaitTime'].quantile(0.1)\n",
    "print(f'90% above average Wait Time: {p90:.2f} seconds')\n",
    "print(f'10% above average Wait Time: {p10:.2f} seconds')\n",
    "\n",
    "# Get significantly higher or lower than the overall average wait time\n",
    "high_wait = di_wait_records[(di_wait_records['DIWaitTime'] >= p90)]\n",
    "print('\\nHigh Wait Time Rank- Day of the Week')\n",
    "display(pd.DataFrame(high_wait['DI Req - Time'].dt.day_name()).value_counts())\n",
    "\n",
    "low_wait = di_wait_records[(di_wait_records['DIWaitTime'] <= p10)]\n",
    "print('Low Wait Time Rank - Day of the Week')\n",
    "display(pd.DataFrame(low_wait['DI Req - Time'].dt.day_name()).value_counts())"
   ]
  },
  {
   "cell_type": "markdown",
   "metadata": {},
   "source": [
    "### Are there particular times of the day where wait times to be seen by DI are significantly higher or lower than the overall average for Appendectomy or Cholecystectomy patients?\n",
    "\n",
    "**Answer:**\n",
    "\n",
    "From the data, it has been observed that there is significant high waiting time (10091.28 seconds or 2.8 hours) during 6 and 9 in the morning but there will be a minimal wait time (10.5 minutes) during 10 to 11 in the morning."
   ]
  },
  {
   "cell_type": "code",
   "execution_count": 96,
   "metadata": {},
   "outputs": [
    {
     "name": "stdout",
     "output_type": "stream",
     "text": [
      "\n",
      "High Wait Time Rank- Time of the Day\n"
     ]
    },
    {
     "data": {
      "text/plain": [
       "DI Req - Time\n",
       "6                7\n",
       "9                6\n",
       "4                5\n",
       "5                5\n",
       "7                5\n",
       "8                5\n",
       "11               5\n",
       "13               5\n",
       "10               4\n",
       "20               4\n",
       "16               4\n",
       "3                3\n",
       "17               3\n",
       "15               2\n",
       "23               2\n",
       "12               2\n",
       "1                2\n",
       "2                2\n",
       "14               1\n",
       "22               1\n",
       "0                1\n",
       "dtype: int64"
      ]
     },
     "metadata": {},
     "output_type": "display_data"
    },
    {
     "name": "stdout",
     "output_type": "stream",
     "text": [
      "Low Wait Time Rank - Time of the Day\n"
     ]
    },
    {
     "data": {
      "text/plain": [
       "DI Req - Time\n",
       "10               7\n",
       "11               7\n",
       "16               6\n",
       "7                6\n",
       "15               6\n",
       "9                6\n",
       "17               5\n",
       "6                4\n",
       "1                4\n",
       "18               3\n",
       "8                3\n",
       "5                3\n",
       "19               2\n",
       "20               2\n",
       "22               2\n",
       "23               2\n",
       "21               1\n",
       "0                1\n",
       "14               1\n",
       "12               1\n",
       "4                1\n",
       "13               1\n",
       "dtype: int64"
      ]
     },
     "metadata": {},
     "output_type": "display_data"
    }
   ],
   "source": [
    "# Get significantly higher or lower than the overall average wait time\n",
    "print('\\nHigh Wait Time Rank- Time of the Day')\n",
    "display(pd.DataFrame(high_wait['DI Req - Time'].dt.hour).value_counts())\n",
    "\n",
    "print('Low Wait Time Rank - Time of the Day')\n",
    "display(pd.DataFrame(low_wait['DI Req - Time'].dt.hour).value_counts())"
   ]
  },
  {
   "cell_type": "markdown",
   "metadata": {},
   "source": [
    "Sometimes data can be used to find quality improvement opportunities.  The idea has been considered that the time difference between the patient being seen by DI (DI - Pt in Suite) and the time a patient is booked into the OR (OR Booking Req DT/Tm) is reflective of a doctor’s ability to manage their workload.  \n",
    "\n",
    "### Is there a doctor who is significantly better than their peers in this area for one or both of the procedures?"
   ]
  },
  {
   "cell_type": "code",
   "execution_count": 97,
   "metadata": {},
   "outputs": [
    {
     "name": "stdout",
     "output_type": "stream",
     "text": [
      "Top 5 Efficient Physicians with minimal DI to OR internal time:\n"
     ]
    },
    {
     "data": {
      "text/html": [
       "<div>\n",
       "<style scoped>\n",
       "    .dataframe tbody tr th:only-of-type {\n",
       "        vertical-align: middle;\n",
       "    }\n",
       "\n",
       "    .dataframe tbody tr th {\n",
       "        vertical-align: top;\n",
       "    }\n",
       "\n",
       "    .dataframe thead th {\n",
       "        text-align: right;\n",
       "    }\n",
       "</style>\n",
       "<table border=\"1\" class=\"dataframe\">\n",
       "  <thead>\n",
       "    <tr style=\"text-align: right;\">\n",
       "      <th></th>\n",
       "      <th>Requesting Physician</th>\n",
       "      <th>Proc Descr Mod</th>\n",
       "      <th>DI To OR Interval (s)</th>\n",
       "    </tr>\n",
       "  </thead>\n",
       "  <tbody>\n",
       "    <tr>\n",
       "      <th>214</th>\n",
       "      <td>Dr. S</td>\n",
       "      <td>Laparoscopy Cholecystectomy</td>\n",
       "      <td>28.701</td>\n",
       "    </tr>\n",
       "    <tr>\n",
       "      <th>968</th>\n",
       "      <td>Dr. J</td>\n",
       "      <td>Laparoscopy Cholecystectomy</td>\n",
       "      <td>50.241</td>\n",
       "    </tr>\n",
       "    <tr>\n",
       "      <th>164</th>\n",
       "      <td>Dr. S</td>\n",
       "      <td>Laparoscopy Appendectomy</td>\n",
       "      <td>51.931</td>\n",
       "    </tr>\n",
       "    <tr>\n",
       "      <th>55</th>\n",
       "      <td>Dr. J</td>\n",
       "      <td>Laparoscopy Appendectomy</td>\n",
       "      <td>78.132</td>\n",
       "    </tr>\n",
       "    <tr>\n",
       "      <th>564</th>\n",
       "      <td>Dr. S</td>\n",
       "      <td>Laparoscopy Appendectomy</td>\n",
       "      <td>103.411</td>\n",
       "    </tr>\n",
       "  </tbody>\n",
       "</table>\n",
       "</div>"
      ],
      "text/plain": [
       "    Requesting Physician               Proc Descr Mod  DI To OR Interval (s)\n",
       "214                Dr. S  Laparoscopy Cholecystectomy                 28.701\n",
       "968                Dr. J  Laparoscopy Cholecystectomy                 50.241\n",
       "164                Dr. S     Laparoscopy Appendectomy                 51.931\n",
       "55                 Dr. J     Laparoscopy Appendectomy                 78.132\n",
       "564                Dr. S     Laparoscopy Appendectomy                103.411"
      ]
     },
     "metadata": {},
     "output_type": "display_data"
    }
   ],
   "source": [
    "or_di_data['DI To OR Interval (s)'] = (or_di_data['OR Booking Req DT/Tm'] - or_di_data['DI - Pt in Suite']).dt.total_seconds()\n",
    "\n",
    "# Filter Appendectomy and Cholecystectomy patients only and with valid interval time\n",
    "or_to_di_records = or_di_data[((or_di_data['Proc Descr Mod'].str.contains('Appendectomy')) |\n",
    "                    (or_di_data['Proc Descr Mod'].str.contains('Cholecystectomy'))) &\n",
    "                    (or_di_data['DI To OR Interval (s)'].isnull() == False) &\n",
    "                    (or_di_data['DI To OR Interval (s)'] >= 0.0)]\n",
    "top5_doctor = or_to_di_records.nsmallest(n=5, columns='DI To OR Interval (s)')\n",
    "print('Top 5 Efficient Physicians with minimal DI to OR internal time:')\n",
    "display(top5_doctor[['Requesting Physician', 'Proc Descr Mod', 'DI To OR Interval (s)']])"
   ]
  }
 ],
 "metadata": {
  "kernelspec": {
   "display_name": "Python 3",
   "language": "python",
   "name": "python3"
  },
  "language_info": {
   "codemirror_mode": {
    "name": "ipython",
    "version": 3
   },
   "file_extension": ".py",
   "mimetype": "text/x-python",
   "name": "python",
   "nbconvert_exporter": "python",
   "pygments_lexer": "ipython3",
   "version": "3.11.8"
  }
 },
 "nbformat": 4,
 "nbformat_minor": 2
}
